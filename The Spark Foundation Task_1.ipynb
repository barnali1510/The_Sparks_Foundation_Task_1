{
 "cells": [
  {
   "cell_type": "markdown",
   "id": "7762a754",
   "metadata": {},
   "source": [
    "# THE SPARK FOUNDATION - DATA SCIENCE & BUSINESS ANALYTICS TASK  GRIP @ The Sparks Foundation (September, 2021)."
   ]
  },
  {
   "cell_type": "markdown",
   "id": "38e743a7",
   "metadata": {},
   "source": [
    "### By BARNALI GHOSH"
   ]
  },
  {
   "cell_type": "markdown",
   "id": "a87c9cd2",
   "metadata": {},
   "source": [
    "## Predict the Percentage of a Student based on no. of Study Hours"
   ]
  },
  {
   "cell_type": "markdown",
   "id": "d7230b0a",
   "metadata": {},
   "source": [
    "### Step 1 : Importing Python Libraries"
   ]
  },
  {
   "cell_type": "code",
   "execution_count": 1,
   "id": "765f7d15",
   "metadata": {},
   "outputs": [],
   "source": [
    "import pandas as pd\n",
    "import numpy as np\n",
    "import matplotlib.pyplot as plt\n",
    "%matplotlib inline"
   ]
  },
  {
   "cell_type": "markdown",
   "id": "0ca765f7",
   "metadata": {},
   "source": [
    "### Step 2 : Importing Data"
   ]
  },
  {
   "cell_type": "code",
   "execution_count": 2,
   "id": "ea6ef450",
   "metadata": {},
   "outputs": [
    {
     "name": "stdout",
     "output_type": "stream",
     "text": [
      "Data imported successfully\n"
     ]
    }
   ],
   "source": [
    "Data = pd.read_csv(\"Data.csv\")\n",
    "print(\"Data imported successfully\")"
   ]
  },
  {
   "cell_type": "markdown",
   "id": "7bac86eb",
   "metadata": {},
   "source": [
    "### Step 3 : Check whether data imported successfully or not"
   ]
  },
  {
   "cell_type": "code",
   "execution_count": 3,
   "id": "a8829731",
   "metadata": {},
   "outputs": [
    {
     "name": "stdout",
     "output_type": "stream",
     "text": [
      "To check we print the first 10 data of the Data set\n"
     ]
    },
    {
     "data": {
      "text/html": [
       "<div>\n",
       "<style scoped>\n",
       "    .dataframe tbody tr th:only-of-type {\n",
       "        vertical-align: middle;\n",
       "    }\n",
       "\n",
       "    .dataframe tbody tr th {\n",
       "        vertical-align: top;\n",
       "    }\n",
       "\n",
       "    .dataframe thead th {\n",
       "        text-align: right;\n",
       "    }\n",
       "</style>\n",
       "<table border=\"1\" class=\"dataframe\">\n",
       "  <thead>\n",
       "    <tr style=\"text-align: right;\">\n",
       "      <th></th>\n",
       "      <th>Hours</th>\n",
       "      <th>Scores</th>\n",
       "    </tr>\n",
       "  </thead>\n",
       "  <tbody>\n",
       "    <tr>\n",
       "      <th>0</th>\n",
       "      <td>2.5</td>\n",
       "      <td>21</td>\n",
       "    </tr>\n",
       "    <tr>\n",
       "      <th>1</th>\n",
       "      <td>5.1</td>\n",
       "      <td>47</td>\n",
       "    </tr>\n",
       "    <tr>\n",
       "      <th>2</th>\n",
       "      <td>3.2</td>\n",
       "      <td>27</td>\n",
       "    </tr>\n",
       "    <tr>\n",
       "      <th>3</th>\n",
       "      <td>8.5</td>\n",
       "      <td>75</td>\n",
       "    </tr>\n",
       "    <tr>\n",
       "      <th>4</th>\n",
       "      <td>3.5</td>\n",
       "      <td>30</td>\n",
       "    </tr>\n",
       "    <tr>\n",
       "      <th>5</th>\n",
       "      <td>1.5</td>\n",
       "      <td>20</td>\n",
       "    </tr>\n",
       "    <tr>\n",
       "      <th>6</th>\n",
       "      <td>9.2</td>\n",
       "      <td>88</td>\n",
       "    </tr>\n",
       "    <tr>\n",
       "      <th>7</th>\n",
       "      <td>5.5</td>\n",
       "      <td>60</td>\n",
       "    </tr>\n",
       "    <tr>\n",
       "      <th>8</th>\n",
       "      <td>8.3</td>\n",
       "      <td>81</td>\n",
       "    </tr>\n",
       "    <tr>\n",
       "      <th>9</th>\n",
       "      <td>2.7</td>\n",
       "      <td>25</td>\n",
       "    </tr>\n",
       "  </tbody>\n",
       "</table>\n",
       "</div>"
      ],
      "text/plain": [
       "   Hours  Scores\n",
       "0    2.5      21\n",
       "1    5.1      47\n",
       "2    3.2      27\n",
       "3    8.5      75\n",
       "4    3.5      30\n",
       "5    1.5      20\n",
       "6    9.2      88\n",
       "7    5.5      60\n",
       "8    8.3      81\n",
       "9    2.7      25"
      ]
     },
     "execution_count": 3,
     "metadata": {},
     "output_type": "execute_result"
    }
   ],
   "source": [
    "print(\"To check we print the first 10 data of the Data set\")\n",
    "Data.head(10)"
   ]
  },
  {
   "cell_type": "code",
   "execution_count": 4,
   "id": "af6cee8f",
   "metadata": {},
   "outputs": [
    {
     "name": "stdout",
     "output_type": "stream",
     "text": [
      "The data set have been correctly imported\n"
     ]
    }
   ],
   "source": [
    "print(\"The data set have been correctly imported\")"
   ]
  },
  {
   "cell_type": "markdown",
   "id": "972904ac",
   "metadata": {},
   "source": [
    "### Step 4 : Plotting Different Graphs for detailed Analysis of the Data set"
   ]
  },
  {
   "cell_type": "code",
   "execution_count": 5,
   "id": "1eccfe71",
   "metadata": {},
   "outputs": [
    {
     "data": {
      "image/png": "[encoded data removed]",
      "text/plain": [
       "<Figure size 432x288 with 1 Axes>"
      ]
     },
     "metadata": {
      "needs_background": "light"
     },
     "output_type": "display_data"
    }
   ],
   "source": [
    "Data.plot(x = 'Hours', y = 'Scores', style = '1')\n",
    "plt.title('Hours vs Percentage')\n",
    "plt.xlabel('Hours Studied')\n",
    "plt.ylabel('Percentage Score')\n",
    "plt.show()"
   ]
  },
  {
   "cell_type": "code",
   "execution_count": 6,
   "id": "6044e2ab",
   "metadata": {},
   "outputs": [
    {
     "data": {
      "text/plain": [
       "<AxesSubplot:ylabel='Scores'>"
      ]
     },
     "execution_count": 6,
     "metadata": {},
     "output_type": "execute_result"
    },
    {
     "data": {
      "image/png": "[encoded data removed]",
      "text/plain": [
       "<Figure size 432x288 with 1 Axes>"
      ]
     },
     "metadata": {},
     "output_type": "display_data"
    }
   ],
   "source": [
    "Data.plot.pie(x = 'Hours', y = 'Scores')"
   ]
  },
  {
   "cell_type": "code",
   "execution_count": 7,
   "id": "3eff350e",
   "metadata": {},
   "outputs": [
    {
     "data": {
      "text/plain": [
       "<AxesSubplot:xlabel='Hours', ylabel='Scores'>"
      ]
     },
     "execution_count": 7,
     "metadata": {},
     "output_type": "execute_result"
    },
    {
     "data": {
      "image/png": "[encoded data removed]",
      "text/plain": [
       "<Figure size 432x288 with 1 Axes>"
      ]
     },
     "metadata": {
      "needs_background": "light"
     },
     "output_type": "display_data"
    }
   ],
   "source": [
    "Data.plot.scatter(x = 'Hours', y = 'Scores')"
   ]
  },
  {
   "cell_type": "code",
   "execution_count": 8,
   "id": "84c78ac2",
   "metadata": {},
   "outputs": [
    {
     "data": {
      "text/plain": [
       "<AxesSubplot:xlabel='Hours'>"
      ]
     },
     "execution_count": 8,
     "metadata": {},
     "output_type": "execute_result"
    },
    {
     "data": {
      "image/png": "[encoded data removed]",
      "text/plain": [
       "<Figure size 432x288 with 1 Axes>"
      ]
     },
     "metadata": {
      "needs_background": "light"
     },
     "output_type": "display_data"
    }
   ],
   "source": [
    "Data.plot.bar(x = 'Hours', y = 'Scores')"
   ]
  },
  {
   "cell_type": "code",
   "execution_count": 9,
   "id": "9f81797b",
   "metadata": {},
   "outputs": [
    {
     "data": {
      "text/plain": [
       "<AxesSubplot:xlabel='Hours'>"
      ]
     },
     "execution_count": 9,
     "metadata": {},
     "output_type": "execute_result"
    },
    {
     "data": {
      "image/png": "[encoded data removed]",
      "text/plain": [
       "<Figure size 432x288 with 1 Axes>"
      ]
     },
     "metadata": {
      "needs_background": "light"
     },
     "output_type": "display_data"
    }
   ],
   "source": [
    "Data.sort_values([\"Hours\"], axis = 0, ascending = [True], inplace = True)\n",
    "Data.head(10)\n",
    "Data.plot.bar(x = 'Hours', y = 'Scores')"
   ]
  },
  {
   "cell_type": "markdown",
   "id": "505aa9af",
   "metadata": {},
   "source": [
    "## After plotting different graphs, we can observe that as study hours increases, the percentage score of the student also increases, which is a good sign of correct data. In our real life as well we can observe the same phenomenon."
   ]
  },
  {
   "cell_type": "markdown",
   "id": "65ac89e8",
   "metadata": {},
   "source": [
    "### Step 5 : Now, We prepare the data for our module"
   ]
  },
  {
   "cell_type": "code",
   "execution_count": 10,
   "id": "e551bb34",
   "metadata": {},
   "outputs": [
    {
     "name": "stdout",
     "output_type": "stream",
     "text": [
      "[[1.1]\n",
      " [1.5]\n",
      " [1.9]\n",
      " [2.5]\n",
      " [2.5]\n",
      " [2.7]\n",
      " [2.7]\n",
      " [3.2]\n",
      " [3.3]\n",
      " [3.5]\n",
      " [3.8]\n",
      " [4.5]\n",
      " [4.8]\n",
      " [5.1]\n",
      " [5.5]\n",
      " [5.9]\n",
      " [6.1]\n",
      " [6.9]\n",
      " [7.4]\n",
      " [7.7]\n",
      " [7.8]\n",
      " [8.3]\n",
      " [8.5]\n",
      " [8.9]\n",
      " [9.2]]\n"
     ]
    }
   ],
   "source": [
    "x = Data.iloc[:, :-1].values\n",
    "y = Data.iloc[:, 1].values\n",
    "print(x)"
   ]
  },
  {
   "cell_type": "markdown",
   "id": "e3c58691",
   "metadata": {},
   "source": [
    "### Step 6 : Now, We divide the data for Training and Testing the module"
   ]
  },
  {
   "cell_type": "code",
   "execution_count": 11,
   "id": "0e43d4f1",
   "metadata": {},
   "outputs": [],
   "source": [
    "from sklearn.model_selection import train_test_split\n",
    "x_train, x_test, y_train, y_test = train_test_split(x, y, test_size = 0.2, random_state = 0)"
   ]
  },
  {
   "cell_type": "markdown",
   "id": "29f676f2",
   "metadata": {},
   "source": [
    "## Training The Algorithm"
   ]
  },
  {
   "cell_type": "code",
   "execution_count": 12,
   "id": "8eb15d1d",
   "metadata": {},
   "outputs": [
    {
     "name": "stdout",
     "output_type": "stream",
     "text": [
      "Traing Completed\n"
     ]
    }
   ],
   "source": [
    "from sklearn.linear_model import LinearRegression\n",
    "regressor = LinearRegression()\n",
    "regressor.fit(x_train, y_train)\n",
    "print(\"Traing Completed\")"
   ]
  },
  {
   "cell_type": "markdown",
   "id": "014838eb",
   "metadata": {},
   "source": [
    "## Plotting the Regression Line"
   ]
  },
  {
   "cell_type": "code",
   "execution_count": 13,
   "id": "386362e6",
   "metadata": {},
   "outputs": [
    {
     "data": {
      "text/plain": [
       "array([9.66210145])"
      ]
     },
     "execution_count": 13,
     "metadata": {},
     "output_type": "execute_result"
    }
   ],
   "source": [
    "regressor.coef_"
   ]
  },
  {
   "cell_type": "code",
   "execution_count": 14,
   "id": "285b4aff",
   "metadata": {},
   "outputs": [
    {
     "data": {
      "text/plain": [
       "2.5300405912062587"
      ]
     },
     "execution_count": 14,
     "metadata": {},
     "output_type": "execute_result"
    }
   ],
   "source": [
    "regressor.intercept_"
   ]
  },
  {
   "cell_type": "code",
   "execution_count": 15,
   "id": "a59e4e4f",
   "metadata": {},
   "outputs": [
    {
     "data": {
      "image/png": "[encoded data removed]",
      "text/plain": [
       "<Figure size 432x288 with 1 Axes>"
      ]
     },
     "metadata": {
      "needs_background": "light"
     },
     "output_type": "display_data"
    }
   ],
   "source": [
    "line = regressor.coef_*x+regressor.intercept_\n",
    "plt.scatter(x, y, color = 'red')\n",
    "plt.title('Hours vs Percentage')\n",
    "plt.xlabel('Hours Studied')\n",
    "plt.ylabel('Percentage Score')\n",
    "plt.plot(x, line, color = 'blue')\n",
    "plt.show()"
   ]
  },
  {
   "cell_type": "markdown",
   "id": "20180be6",
   "metadata": {},
   "source": [
    "### Step 7 : Now our model is ready and we are going to test it."
   ]
  },
  {
   "cell_type": "code",
   "execution_count": 16,
   "id": "ca8b8284",
   "metadata": {},
   "outputs": [
    {
     "name": "stdout",
     "output_type": "stream",
     "text": [
      "[[2.7]\n",
      " [1.9]\n",
      " [7.7]\n",
      " [6.1]\n",
      " [4.5]]\n",
      "Prediction of Score\n"
     ]
    }
   ],
   "source": [
    "print(x_test)\n",
    "print(\"Prediction of Score\")\n",
    "y_pred = regressor.predict(x_test)"
   ]
  },
  {
   "cell_type": "markdown",
   "id": "a86e33fc",
   "metadata": {},
   "source": [
    "### Step 8 : Now checking the accuracy of our model"
   ]
  },
  {
   "cell_type": "code",
   "execution_count": 17,
   "id": "23749dbd",
   "metadata": {},
   "outputs": [
    {
     "data": {
      "text/html": [
       "<div>\n",
       "<style scoped>\n",
       "    .dataframe tbody tr th:only-of-type {\n",
       "        vertical-align: middle;\n",
       "    }\n",
       "\n",
       "    .dataframe tbody tr th {\n",
       "        vertical-align: top;\n",
       "    }\n",
       "\n",
       "    .dataframe thead th {\n",
       "        text-align: right;\n",
       "    }\n",
       "</style>\n",
       "<table border=\"1\" class=\"dataframe\">\n",
       "  <thead>\n",
       "    <tr style=\"text-align: right;\">\n",
       "      <th></th>\n",
       "      <th>Actual</th>\n",
       "      <th>Predicted</th>\n",
       "    </tr>\n",
       "  </thead>\n",
       "  <tbody>\n",
       "    <tr>\n",
       "      <th>0</th>\n",
       "      <td>30</td>\n",
       "      <td>28.617714</td>\n",
       "    </tr>\n",
       "    <tr>\n",
       "      <th>1</th>\n",
       "      <td>24</td>\n",
       "      <td>20.888033</td>\n",
       "    </tr>\n",
       "    <tr>\n",
       "      <th>2</th>\n",
       "      <td>85</td>\n",
       "      <td>76.928222</td>\n",
       "    </tr>\n",
       "    <tr>\n",
       "      <th>3</th>\n",
       "      <td>67</td>\n",
       "      <td>61.468859</td>\n",
       "    </tr>\n",
       "    <tr>\n",
       "      <th>4</th>\n",
       "      <td>41</td>\n",
       "      <td>46.009497</td>\n",
       "    </tr>\n",
       "  </tbody>\n",
       "</table>\n",
       "</div>"
      ],
      "text/plain": [
       "   Actual  Predicted\n",
       "0      30  28.617714\n",
       "1      24  20.888033\n",
       "2      85  76.928222\n",
       "3      67  61.468859\n",
       "4      41  46.009497"
      ]
     },
     "execution_count": 17,
     "metadata": {},
     "output_type": "execute_result"
    }
   ],
   "source": [
    "df = pd.DataFrame({'Actual' : y_test, 'Predicted' : y_pred})\n",
    "df"
   ]
  },
  {
   "cell_type": "markdown",
   "id": "7925e590",
   "metadata": {},
   "source": [
    "### Step 9 : Prediction with Custom Data"
   ]
  },
  {
   "cell_type": "markdown",
   "id": "b81b4f8a",
   "metadata": {},
   "source": [
    "### What will be the predicted score if a student studies for 9.5 hours/day ?"
   ]
  },
  {
   "cell_type": "code",
   "execution_count": 18,
   "id": "9a1d1e23",
   "metadata": {},
   "outputs": [
    {
     "name": "stdout",
     "output_type": "stream",
     "text": [
      "[91.90447898]\n"
     ]
    }
   ],
   "source": [
    "hours = [[9.25]]\n",
    "pred = regressor.predict(hours)\n",
    "print(pred)"
   ]
  },
  {
   "cell_type": "markdown",
   "id": "17f864a5",
   "metadata": {},
   "source": [
    "## Evaluating The Model"
   ]
  },
  {
   "cell_type": "code",
   "execution_count": 19,
   "id": "a613c1bf",
   "metadata": {},
   "outputs": [
    {
     "name": "stdout",
     "output_type": "stream",
     "text": [
      "Mean Absolute Error: 4.621333622532769\n"
     ]
    }
   ],
   "source": [
    "from sklearn import metrics\n",
    "print('Mean Absolute Error:', metrics.mean_absolute_error(y_test, y_pred))"
   ]
  },
  {
   "cell_type": "markdown",
   "id": "2f9a9d7b",
   "metadata": {},
   "source": [
    "## Final Results"
   ]
  },
  {
   "cell_type": "markdown",
   "id": "1fde7055",
   "metadata": {},
   "source": [
    "### If a student studies for 9.5 hours/day, his predicted score will be 91.90447898."
   ]
  },
  {
   "cell_type": "markdown",
   "id": "a276be6f",
   "metadata": {},
   "source": [
    "### Thus, we successfully obtained the prediction of this linear regression task using Supervised Machine Learning."
   ]
  },
  {
   "cell_type": "markdown",
   "id": "d50c3950",
   "metadata": {},
   "source": [
    "##                                             THANK YOU!"
   ]
  }
 ],
 "metadata": {
  "kernelspec": {
   "display_name": "Python 3",
   "language": "python",
   "name": "python3"
  },
  "language_info": {
   "codemirror_mode": {
    "name": "ipython",
    "version": 3
   },
   "file_extension": ".py",
   "mimetype": "text/x-python",
   "name": "python",
   "nbconvert_exporter": "python",
   "pygments_lexer": "ipython3",
   "version": "3.8.8"
  }
 },
 "nbformat": 4,
 "nbformat_minor": 5
}
